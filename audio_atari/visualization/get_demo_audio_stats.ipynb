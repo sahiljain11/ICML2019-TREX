{
 "cells": [
  {
   "cell_type": "code",
   "execution_count": 3,
   "metadata": {},
   "outputs": [],
   "source": [
    "import json"
   ]
  },
  {
   "cell_type": "code",
   "execution_count": 15,
   "metadata": {},
   "outputs": [
    {
     "name": "stdout",
     "output_type": "stream",
     "text": [
      "dict_keys(['mspacman_JE5W3X5P3T_1', 'mspacman_JE5W3X5P3T_2', 'mspacman_JE5W3X5P3T_3', 'mspacman_JE5W3X5P3T_4', 'mspacman_JE5W3X5P3T_5', 'mspacman_JE5W3X5P3T_6', 'spaceinvaders_X549THSLUZ_1', 'spaceinvaders_X549THSLUZ_2', 'spaceinvaders_X549THSLUZ_3', 'spaceinvaders_X549THSLUZ_4', 'spaceinvaders_X549THSLUZ_5', 'spaceinvaders_X549THSLUZ_6', 'spaceinvaders_X549THSLUZ_7', 'spaceinvaders_X549THSLUZ_8', 'spaceinvaders_X549THSLUZ_9', 'spaceinvaders_X549THSLUZ_10', 'revenge_JPR7OWTO4Y_1', 'revenge_JPR7OWTO4Y_2', 'revenge_JPR7OWTO4Y_3', 'revenge_JPR7OWTO4Y_4', 'revenge_JPR7OWTO4Y_5', 'enduro_45APTZRP7R_1', 'enduro_45APTZRP7R_2', 'enduro_45APTZRP7R_3', 'seaquest_5E9XSWHWEA_1', 'seaquest_5E9XSWHWEA_2', 'seaquest_5E9XSWHWEA_3', 'seaquest_5E9XSWHWEA_4'])\n",
      "4433\n"
     ]
    }
   ],
   "source": [
    "# load the data json with info about audio occurences\n",
    "data_json = '../frames/complete.json'\n",
    "data_info = json.load(open(data_json)) \n",
    "print(data_info.keys())\n",
    "\n",
    "games = ['mspacman', 'spaceinvaders', 'revenge', 'seaquest', 'enduro']\n",
    "\n",
    "frames = data_info['mspacman_JE5W3X5P3T_1'].keys()\n",
    "print(len(frames))\n",
    "\n",
    "audio_det = []\n",
    "reward = []\n",
    "confidence = []\n",
    "frame_num = []\n",
    "for i in frames:\n",
    "    audio_det.append(data_info['mspacman_JE5W3X5P3T_1'][i]['audio'])\n",
    "    reward.append(data_info['mspacman_JE5W3X5P3T_1'][i]['reward'])\n",
    "    confidence.append(data_info['mspacman_JE5W3X5P3T_1'][i]['confidence'])\n",
    "    frame_num.append(data_info['mspacman_JE5W3X5P3T_1'][i]['frame_num'])\n",
    "    \n",
    "# print(reward)"
   ]
  },
  {
   "cell_type": "code",
   "execution_count": null,
   "metadata": {},
   "outputs": [],
   "source": [
    "# what percentage of frames contain audio utterances"
   ]
  },
  {
   "cell_type": "code",
   "execution_count": null,
   "metadata": {},
   "outputs": [],
   "source": [
    "# what is the breakdown of yes/no utterances per demo"
   ]
  },
  {
   "cell_type": "code",
   "execution_count": 1,
   "metadata": {},
   "outputs": [],
   "source": [
    "# what is the corresponding reward/return around yes utterances and no utterances\n",
    "# test speech to text confidence"
   ]
  },
  {
   "cell_type": "code",
   "execution_count": null,
   "metadata": {},
   "outputs": [],
   "source": []
  }
 ],
 "metadata": {
  "kernelspec": {
   "display_name": "audio",
   "language": "python",
   "name": "audio"
  },
  "language_info": {
   "codemirror_mode": {
    "name": "ipython",
    "version": 3
   },
   "file_extension": ".py",
   "mimetype": "text/x-python",
   "name": "python",
   "nbconvert_exporter": "python",
   "pygments_lexer": "ipython3",
   "version": "3.6.10"
  }
 },
 "nbformat": 4,
 "nbformat_minor": 4
}
